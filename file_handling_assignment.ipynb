{
  "nbformat": 4,
  "nbformat_minor": 0,
  "metadata": {
    "colab": {
      "provenance": []
    },
    "kernelspec": {
      "name": "python3",
      "display_name": "Python 3"
    },
    "language_info": {
      "name": "python"
    }
  },
  "cells": [
    {
      "cell_type": "markdown",
      "source": [
        "THEORY QUESTIONS"
      ],
      "metadata": {
        "id": "E4rEyRcWZTvW"
      }
    },
    {
      "cell_type": "markdown",
      "source": [
        "1) ans: Interpreted : code is excecuted line by line (e.g., Python).\n",
        "Compiled: Code is translated into machine code before execution(e.g., C,C++)."
      ],
      "metadata": {
        "id": "sp87yxfFZnLb"
      }
    },
    {
      "cell_type": "markdown",
      "source": [
        "2) ans: A mechanism to catch and handle errors during program execution using try, except, finally, and else."
      ],
      "metadata": {
        "id": "q1oqbt7Oaf67"
      }
    },
    {
      "cell_type": "markdown",
      "source": [
        "3) ans: It always executes after try/except, used for cleanup like closing files or releasing resources."
      ],
      "metadata": {
        "id": "fSV8gkcOaiD8"
      }
    },
    {
      "cell_type": "markdown",
      "source": [
        "4) ans: A built-in module used to record events/messages during program execution (e.g., errors, info, warnings)."
      ],
      "metadata": {
        "id": "Kz8jpNCoajdv"
      }
    },
    {
      "cell_type": "markdown",
      "source": [
        "5) ans: Destructor method called when an object is about to be destroyed (used to release resources)."
      ],
      "metadata": {
        "id": "3EgFVxvUamne"
      }
    },
    {
      "cell_type": "markdown",
      "source": [
        "6) ans:import module → import entire module\n",
        "\n",
        "from module import function → imports only specific parts\n"
      ],
      "metadata": {
        "id": "_bJ1Q14UaoVU"
      }
    },
    {
      "cell_type": "markdown",
      "source": [
        "7) ans: except (ValueError, TypeError) as e:\n",
        "    print(e)"
      ],
      "metadata": {
        "id": "N6o1Mtkrappq"
      }
    },
    {
      "cell_type": "markdown",
      "source": [
        "8)ans: Automatically handles file closing, even if an exception occurs. It ensures safe resource management.\n"
      ],
      "metadata": {
        "id": "NqAoDJRUarVc"
      }
    },
    {
      "cell_type": "markdown",
      "source": [
        "9)ans:Multithreading: Multiple threads within a single process (share memory).\n",
        "\n",
        "Multiprocessing: Multiple processes (separate memory), better for CPU-bound tasks."
      ],
      "metadata": {
        "id": "e91Xb6KNatTu"
      }
    },
    {
      "cell_type": "markdown",
      "source": [
        "10)ans: Tracks issues, helps debugging, provides runtime diagnostics without interrupting program flow.\n"
      ],
      "metadata": {
        "id": "nXQWCdESauj-"
      }
    },
    {
      "cell_type": "markdown",
      "source": [
        "11)ans: Automatic handling of memory allocation and deallocation using Garbage Collector (GC).\n"
      ],
      "metadata": {
        "id": "o737vPKqaxRN"
      }
    },
    {
      "cell_type": "markdown",
      "source": [
        "12)ans:except: handle the exception\n",
        "\n",
        "else: executes if no exception\n",
        "\n",
        "finally: always executes\n"
      ],
      "metadata": {
        "id": "LgyJnBfJaywE"
      }
    },
    {
      "cell_type": "markdown",
      "source": [
        "13)ans:Prevents memory leaks, improves performance, and ensures system stability."
      ],
      "metadata": {
        "id": "sCRjJ3HBa0Gi"
      }
    },
    {
      "cell_type": "markdown",
      "source": [
        "14)ans: To catch and handle errors during execution to prevent crashes."
      ],
      "metadata": {
        "id": "gbaREws8a1Sn"
      }
    },
    {
      "cell_type": "markdown",
      "source": [
        "15)ans: Uses reference counting and a cyclic garbage collector to free memory that’s no longer used."
      ],
      "metadata": {
        "id": "sfuYFf2la2dO"
      }
    },
    {
      "cell_type": "markdown",
      "source": [
        "16)ans: Executes only if no exception is raised in try block."
      ],
      "metadata": {
        "id": "FIl-HpXYa4CN"
      }
    },
    {
      "cell_type": "markdown",
      "source": [
        "17)ans: DEBUG, INFO, WARNING, ERROR, CRITICAL"
      ],
      "metadata": {
        "id": "wUHW6JD6a5vW"
      }
    },
    {
      "cell_type": "markdown",
      "source": [
        "18)ans: os.fork() creates a new child process (Unix only).\n",
        "\n",
        "multiprocessing module is cross-platform and higher level."
      ],
      "metadata": {
        "id": "LbpaQR5ba7aW"
      }
    },
    {
      "cell_type": "markdown",
      "source": [
        "19)ans: Frees system resources, ensures data is written to disk, prevents"
      ],
      "metadata": {
        "id": "hhR_RKD5a_oF"
      }
    },
    {
      "cell_type": "markdown",
      "source": [
        "20)ans: read() → reads the entire file at once\n",
        "\n",
        "readline() → reads one line at a time\n"
      ],
      "metadata": {
        "id": "Ys90dh7tbBIF"
      }
    },
    {
      "cell_type": "markdown",
      "source": [
        "21)ans:To record messages into files or console during program execution for debugging or auditing.\n"
      ],
      "metadata": {
        "id": "mjgLO_ffbCP2"
      }
    },
    {
      "cell_type": "markdown",
      "source": [
        "22)ans: Interacts with the operating system for tasks like file creation, path operations, deletion, etc."
      ],
      "metadata": {
        "id": "j7bA1RAwbDnF"
      }
    },
    {
      "cell_type": "markdown",
      "source": [
        "23)ans: Circular references, memory leaks, managing large objects, optimizing performance."
      ],
      "metadata": {
        "id": "Bb9nwmRSbFUe"
      }
    },
    {
      "cell_type": "markdown",
      "source": [
        "24)ans: raise ValueError(\"Invalid input\")"
      ],
      "metadata": {
        "id": "t3vZixdpbIg2"
      }
    },
    {
      "cell_type": "markdown",
      "source": [
        "25)ans: Improves performance for I/O-bound tasks (like network, file I/O), makes UI responsive."
      ],
      "metadata": {
        "id": "rdwVKkkrbJsU"
      }
    },
    {
      "cell_type": "markdown",
      "source": [
        "PRACTICAL QUESTIONS"
      ],
      "metadata": {
        "id": "i-YLa80ZczSk"
      }
    },
    {
      "cell_type": "code",
      "source": [
        "#1)\n",
        "with open(\"example.txt\", \"w\") as file:\n",
        "  file.write(\"Hello, this is a test string.\")"
      ],
      "metadata": {
        "id": "9M7fXf4mc3o-"
      },
      "execution_count": 1,
      "outputs": []
    },
    {
      "cell_type": "code",
      "source": [
        "#2)\n",
        "with open(\"example.txt\", \"r\") as file:\n",
        "    for line in file:\n",
        "        print(line.strip())"
      ],
      "metadata": {
        "colab": {
          "base_uri": "https://localhost:8080/"
        },
        "id": "dYEtRVZ0dS4r",
        "outputId": "f75e834f-0ee7-4c2e-ffcc-34086d7ae105"
      },
      "execution_count": 3,
      "outputs": [
        {
          "output_type": "stream",
          "name": "stdout",
          "text": [
            "Hello, this is a test string.\n"
          ]
        }
      ]
    },
    {
      "cell_type": "code",
      "source": [
        "#3)\n",
        " with open(\"nonexistent.txt\", \"r\") as file:\n",
        "  content = file.read()\n",
        "except FileNotFoundError:\n",
        "    print(\"File not found.\")"
      ],
      "metadata": {
        "colab": {
          "base_uri": "https://localhost:8080/",
          "height": 106
        },
        "id": "-85tWzUPf1Y8",
        "outputId": "691ba2e1-0f89-493a-838c-dfd54a30613d"
      },
      "execution_count": 8,
      "outputs": [
        {
          "output_type": "error",
          "ename": "IndentationError",
          "evalue": "unexpected indent (ipython-input-8-1743500361.py, line 2)",
          "traceback": [
            "\u001b[0;36m  File \u001b[0;32m\"/tmp/ipython-input-8-1743500361.py\"\u001b[0;36m, line \u001b[0;32m2\u001b[0m\n\u001b[0;31m    with open(\"nonexistent.txt\", \"r\") as file:\u001b[0m\n\u001b[0m    ^\u001b[0m\n\u001b[0;31mIndentationError\u001b[0m\u001b[0;31m:\u001b[0m unexpected indent\n"
          ]
        }
      ]
    },
    {
      "cell_type": "code",
      "source": [
        "#4)\n",
        "with open(\"source.txt\", \"r\") as src, open(\"destination.txt\", \"w\") as dest:\n",
        "    content = src.read()\n",
        "    dest.write(content)"
      ],
      "metadata": {
        "colab": {
          "base_uri": "https://localhost:8080/",
          "height": 193
        },
        "id": "o7dED7Fsf-In",
        "outputId": "65ffade6-e6a3-42ce-ac51-8f1bc79bc767"
      },
      "execution_count": 6,
      "outputs": [
        {
          "output_type": "error",
          "ename": "FileNotFoundError",
          "evalue": "[Errno 2] No such file or directory: 'source.txt'",
          "traceback": [
            "\u001b[0;31m---------------------------------------------------------------------------\u001b[0m",
            "\u001b[0;31mFileNotFoundError\u001b[0m                         Traceback (most recent call last)",
            "\u001b[0;32m/tmp/ipython-input-6-1024233598.py\u001b[0m in \u001b[0;36m<cell line: 0>\u001b[0;34m()\u001b[0m\n\u001b[1;32m      1\u001b[0m \u001b[0;31m#4)\u001b[0m\u001b[0;34m\u001b[0m\u001b[0;34m\u001b[0m\u001b[0m\n\u001b[0;32m----> 2\u001b[0;31m \u001b[0;32mwith\u001b[0m \u001b[0mopen\u001b[0m\u001b[0;34m(\u001b[0m\u001b[0;34m\"source.txt\"\u001b[0m\u001b[0;34m,\u001b[0m \u001b[0;34m\"r\"\u001b[0m\u001b[0;34m)\u001b[0m \u001b[0;32mas\u001b[0m \u001b[0msrc\u001b[0m\u001b[0;34m,\u001b[0m \u001b[0mopen\u001b[0m\u001b[0;34m(\u001b[0m\u001b[0;34m\"destination.txt\"\u001b[0m\u001b[0;34m,\u001b[0m \u001b[0;34m\"w\"\u001b[0m\u001b[0;34m)\u001b[0m \u001b[0;32mas\u001b[0m \u001b[0mdest\u001b[0m\u001b[0;34m:\u001b[0m\u001b[0;34m\u001b[0m\u001b[0;34m\u001b[0m\u001b[0m\n\u001b[0m\u001b[1;32m      3\u001b[0m     \u001b[0mcontent\u001b[0m \u001b[0;34m=\u001b[0m \u001b[0msrc\u001b[0m\u001b[0;34m.\u001b[0m\u001b[0mread\u001b[0m\u001b[0;34m(\u001b[0m\u001b[0;34m)\u001b[0m\u001b[0;34m\u001b[0m\u001b[0;34m\u001b[0m\u001b[0m\n\u001b[1;32m      4\u001b[0m     \u001b[0mdest\u001b[0m\u001b[0;34m.\u001b[0m\u001b[0mwrite\u001b[0m\u001b[0;34m(\u001b[0m\u001b[0mcontent\u001b[0m\u001b[0;34m)\u001b[0m\u001b[0;34m\u001b[0m\u001b[0;34m\u001b[0m\u001b[0m\n",
            "\u001b[0;31mFileNotFoundError\u001b[0m: [Errno 2] No such file or directory: 'source.txt'"
          ]
        }
      ]
    },
    {
      "cell_type": "code",
      "source": [
        "# 5)\n",
        " result = 10 / 0\n",
        "except ZeroDivisionError:\n",
        "    print(\"Division by zero is not allowed.\")"
      ],
      "metadata": {
        "colab": {
          "base_uri": "https://localhost:8080/",
          "height": 106
        },
        "id": "SfzF0j6xgGuV",
        "outputId": "c935d676-a040-4dcd-83f0-0ca71e9d6f0f"
      },
      "execution_count": 9,
      "outputs": [
        {
          "output_type": "error",
          "ename": "IndentationError",
          "evalue": "unexpected indent (ipython-input-9-2866672322.py, line 2)",
          "traceback": [
            "\u001b[0;36m  File \u001b[0;32m\"/tmp/ipython-input-9-2866672322.py\"\u001b[0;36m, line \u001b[0;32m2\u001b[0m\n\u001b[0;31m    result = 10 / 0\u001b[0m\n\u001b[0m    ^\u001b[0m\n\u001b[0;31mIndentationError\u001b[0m\u001b[0;31m:\u001b[0m unexpected indent\n"
          ]
        }
      ]
    },
    {
      "cell_type": "code",
      "source": [
        "# 6)\n",
        "result = 10 / 0\n",
        "except ZeroDivisionError as e:"
      ],
      "metadata": {
        "colab": {
          "base_uri": "https://localhost:8080/",
          "height": 106
        },
        "id": "VqU_9K6NggYX",
        "outputId": "9de0ac34-0af0-4d0b-a14f-fb4ab6b320f8"
      },
      "execution_count": 10,
      "outputs": [
        {
          "output_type": "error",
          "ename": "SyntaxError",
          "evalue": "invalid syntax (ipython-input-10-81670631.py, line 3)",
          "traceback": [
            "\u001b[0;36m  File \u001b[0;32m\"/tmp/ipython-input-10-81670631.py\"\u001b[0;36m, line \u001b[0;32m3\u001b[0m\n\u001b[0;31m    except ZeroDivisionError as e:\u001b[0m\n\u001b[0m    ^\u001b[0m\n\u001b[0;31mSyntaxError\u001b[0m\u001b[0;31m:\u001b[0m invalid syntax\n"
          ]
        }
      ]
    },
    {
      "cell_type": "code",
      "source": [
        "#7)\n",
        "import logging\n",
        "\n",
        "logging.basicConfig(level=logging.DEBUG)\n",
        "\n",
        "logging.info(\"This is an info message\")\n",
        "logging.warning(\"This is a warning\")\n",
        "logging.error(\"This is an error\")"
      ],
      "metadata": {
        "colab": {
          "base_uri": "https://localhost:8080/"
        },
        "id": "1riLxirPgw5E",
        "outputId": "05380d4f-3703-419e-e65b-07b51bb2f196"
      },
      "execution_count": 11,
      "outputs": [
        {
          "output_type": "stream",
          "name": "stderr",
          "text": [
            "WARNING:root:This is a warning\n",
            "ERROR:root:This is an error\n"
          ]
        }
      ]
    },
    {
      "cell_type": "code",
      "source": [
        "#8)\n",
        "  file = open(\"myfile.txt\", \"r\")\n",
        "except FileNotFoundError:\n",
        "    print(\"The file was not found.\")"
      ],
      "metadata": {
        "colab": {
          "base_uri": "https://localhost:8080/",
          "height": 106
        },
        "id": "D7dBwfTxg4mC",
        "outputId": "a50766a0-23f3-4815-93d8-b471d72cd491"
      },
      "execution_count": 12,
      "outputs": [
        {
          "output_type": "error",
          "ename": "IndentationError",
          "evalue": "unexpected indent (ipython-input-12-1159740017.py, line 2)",
          "traceback": [
            "\u001b[0;36m  File \u001b[0;32m\"/tmp/ipython-input-12-1159740017.py\"\u001b[0;36m, line \u001b[0;32m2\u001b[0m\n\u001b[0;31m    file = open(\"myfile.txt\", \"r\")\u001b[0m\n\u001b[0m    ^\u001b[0m\n\u001b[0;31mIndentationError\u001b[0m\u001b[0;31m:\u001b[0m unexpected indent\n"
          ]
        }
      ]
    },
    {
      "cell_type": "code",
      "source": [
        "#9)\n",
        "lines = []\n",
        "with open(\"example.txt\", \"r\") as file:\n",
        "    for line in file:\n",
        "        lines.append(line.strip())\n",
        "print(lines)"
      ],
      "metadata": {
        "colab": {
          "base_uri": "https://localhost:8080/"
        },
        "id": "X4BZdKXig_eZ",
        "outputId": "34bce966-9b57-4eff-a9c7-614e8d70934a"
      },
      "execution_count": 13,
      "outputs": [
        {
          "output_type": "stream",
          "name": "stdout",
          "text": [
            "['Hello, this is a test string.']\n"
          ]
        }
      ]
    },
    {
      "cell_type": "code",
      "source": [
        "#10)\n",
        "with open(\"example.txt\", \"a\") as file:\n",
        "    file.write(\"\\nAppended line.\")\n"
      ],
      "metadata": {
        "id": "0eLMPQa1hJrj"
      },
      "execution_count": 14,
      "outputs": []
    },
    {
      "cell_type": "code",
      "source": [
        "#11)\n",
        "my_dict = {\"a\": 1}\n",
        "    print(my_dict[\"b\"])\n",
        "except KeyError:\n",
        "    print(\"Key not found in dictionary.\")"
      ],
      "metadata": {
        "colab": {
          "base_uri": "https://localhost:8080/",
          "height": 106
        },
        "id": "cycxdeMDhOo3",
        "outputId": "e50932ec-cdf5-445b-eb6c-06133766cb1c"
      },
      "execution_count": 15,
      "outputs": [
        {
          "output_type": "error",
          "ename": "IndentationError",
          "evalue": "unexpected indent (ipython-input-15-2221445113.py, line 3)",
          "traceback": [
            "\u001b[0;36m  File \u001b[0;32m\"/tmp/ipython-input-15-2221445113.py\"\u001b[0;36m, line \u001b[0;32m3\u001b[0m\n\u001b[0;31m    print(my_dict[\"b\"])\u001b[0m\n\u001b[0m    ^\u001b[0m\n\u001b[0;31mIndentationError\u001b[0m\u001b[0;31m:\u001b[0m unexpected indent\n"
          ]
        }
      ]
    },
    {
      "cell_type": "code",
      "source": [
        "#12)\n",
        " num = int(\"abc\")\n",
        "except ValueError:\n",
        "    print(\"ValueError occurred\")\n",
        "except Exception as e:\n",
        "    print(f\"Other error: {e}\")"
      ],
      "metadata": {
        "colab": {
          "base_uri": "https://localhost:8080/",
          "height": 106
        },
        "id": "uy2FMhNahW0t",
        "outputId": "bc0768d9-9e8d-4878-ac84-bc8c37a67c93"
      },
      "execution_count": 16,
      "outputs": [
        {
          "output_type": "error",
          "ename": "IndentationError",
          "evalue": "unexpected indent (ipython-input-16-59003447.py, line 2)",
          "traceback": [
            "\u001b[0;36m  File \u001b[0;32m\"/tmp/ipython-input-16-59003447.py\"\u001b[0;36m, line \u001b[0;32m2\u001b[0m\n\u001b[0;31m    num = int(\"abc\")\u001b[0m\n\u001b[0m    ^\u001b[0m\n\u001b[0;31mIndentationError\u001b[0m\u001b[0;31m:\u001b[0m unexpected indent\n"
          ]
        }
      ]
    },
    {
      "cell_type": "code",
      "source": [
        "#13)\n",
        "import os\n",
        "\n",
        "if os.path.exists(\"example.txt\"):\n",
        "    print(\"File exists.\")\n",
        "else:\n",
        "    print(\"File does not exist.\")\n"
      ],
      "metadata": {
        "colab": {
          "base_uri": "https://localhost:8080/"
        },
        "id": "HsVrDvQqhdpW",
        "outputId": "5de4f2b4-9465-4cea-cf45-ee4e75d23a03"
      },
      "execution_count": 17,
      "outputs": [
        {
          "output_type": "stream",
          "name": "stdout",
          "text": [
            "File exists.\n"
          ]
        }
      ]
    },
    {
      "cell_type": "code",
      "source": [
        "#14)\n",
        "import logging\n",
        "\n",
        "logging.basicConfig(filename='info_error.log', level=logging.DEBUG)\n",
        "\n",
        "logging.info(\"Info message\")\n",
        "try:\n",
        "    1 / 0\n",
        "except ZeroDivisionError:\n",
        "    logging.error(\"Error: Division by zero\")\n"
      ],
      "metadata": {
        "colab": {
          "base_uri": "https://localhost:8080/"
        },
        "id": "L7N4aIa1hvfw",
        "outputId": "de51b6d5-ba19-4383-d118-ec1bdf1cf0f9"
      },
      "execution_count": 18,
      "outputs": [
        {
          "output_type": "stream",
          "name": "stderr",
          "text": [
            "ERROR:root:Error: Division by zero\n"
          ]
        }
      ]
    },
    {
      "cell_type": "code",
      "source": [
        "#15)\n",
        "with open(\"example.txt\", \"r\") as file:\n",
        "    content = file.read()\n",
        "    if content:\n",
        "        print(content)\n",
        "    else:\n",
        "        print(\"File is empty.\")\n",
        "\n"
      ],
      "metadata": {
        "colab": {
          "base_uri": "https://localhost:8080/"
        },
        "id": "8IcomwyziClI",
        "outputId": "a9a64c2d-a3a4-4468-a11e-b3f03ea2bc80"
      },
      "execution_count": 19,
      "outputs": [
        {
          "output_type": "stream",
          "name": "stdout",
          "text": [
            "Hello, this is a test string.\n",
            "Appended line.\n"
          ]
        }
      ]
    },
    {
      "cell_type": "code",
      "source": [
        "#16)\n",
        "# Run: pip install memory-profiler\n",
        "from memory_profiler import profile\n",
        "\n",
        "@profile\n",
        "def test():\n",
        "    a = [i for i in range(100000)]\n",
        "    return a\n",
        "\n",
        "test()\n"
      ],
      "metadata": {
        "colab": {
          "base_uri": "https://localhost:8080/",
          "height": 383
        },
        "id": "pw9Vtst6iLDn",
        "outputId": "344a97c8-70f3-4379-9451-3c41d42cfcf5"
      },
      "execution_count": 20,
      "outputs": [
        {
          "output_type": "error",
          "ename": "ModuleNotFoundError",
          "evalue": "No module named 'memory_profiler'",
          "traceback": [
            "\u001b[0;31m---------------------------------------------------------------------------\u001b[0m",
            "\u001b[0;31mModuleNotFoundError\u001b[0m                       Traceback (most recent call last)",
            "\u001b[0;32m/tmp/ipython-input-20-1822972977.py\u001b[0m in \u001b[0;36m<cell line: 0>\u001b[0;34m()\u001b[0m\n\u001b[1;32m      1\u001b[0m \u001b[0;31m#16)\u001b[0m\u001b[0;34m\u001b[0m\u001b[0;34m\u001b[0m\u001b[0m\n\u001b[1;32m      2\u001b[0m \u001b[0;31m# Run: pip install memory-profiler\u001b[0m\u001b[0;34m\u001b[0m\u001b[0;34m\u001b[0m\u001b[0m\n\u001b[0;32m----> 3\u001b[0;31m \u001b[0;32mfrom\u001b[0m \u001b[0mmemory_profiler\u001b[0m \u001b[0;32mimport\u001b[0m \u001b[0mprofile\u001b[0m\u001b[0;34m\u001b[0m\u001b[0;34m\u001b[0m\u001b[0m\n\u001b[0m\u001b[1;32m      4\u001b[0m \u001b[0;34m\u001b[0m\u001b[0m\n\u001b[1;32m      5\u001b[0m \u001b[0;34m@\u001b[0m\u001b[0mprofile\u001b[0m\u001b[0;34m\u001b[0m\u001b[0;34m\u001b[0m\u001b[0m\n",
            "\u001b[0;31mModuleNotFoundError\u001b[0m: No module named 'memory_profiler'",
            "",
            "\u001b[0;31m---------------------------------------------------------------------------\u001b[0;32m\nNOTE: If your import is failing due to a missing package, you can\nmanually install dependencies using either !pip or !apt.\n\nTo view examples of installing some common dependencies, click the\n\"Open Examples\" button below.\n\u001b[0;31m---------------------------------------------------------------------------\u001b[0m\n"
          ],
          "errorDetails": {
            "actions": [
              {
                "action": "open_url",
                "actionText": "Open Examples",
                "url": "/notebooks/snippets/importing_libraries.ipynb"
              }
            ]
          }
        }
      ]
    },
    {
      "cell_type": "code",
      "source": [
        "#17)\n",
        "with open(\"numbers.txt\", \"w\") as file:\n",
        "    for i in range(1, 11):\n",
        "        file.write(f\"{i}\\n\")\n"
      ],
      "metadata": {
        "id": "PhWY4DajiUGW"
      },
      "execution_count": 21,
      "outputs": []
    },
    {
      "cell_type": "code",
      "source": [
        "#18)\n",
        "import logging\n",
        "from logging.handlers import RotatingFileHandler\n",
        "\n",
        "handler = RotatingFileHandler(\"rotating.log\", maxBytes=1024*1024, backupCount=2)\n",
        "logging.basicConfig(handlers=[handler], level=logging.INFO)\n",
        "logging.info(\"Logging with rotation\")\n"
      ],
      "metadata": {
        "id": "TgQTBNdHiYhc"
      },
      "execution_count": 22,
      "outputs": []
    },
    {
      "cell_type": "code",
      "source": [
        "#19)\n",
        " lst = [1, 2, 3]\n",
        "    print(lst[5])\n",
        "    d = {}\n",
        "    print(d[\"key\"])\n",
        "except (IndexError, KeyError) as e:\n",
        "    print(\"Handled:\", e)\n"
      ],
      "metadata": {
        "colab": {
          "base_uri": "https://localhost:8080/",
          "height": 106
        },
        "id": "UqapoxtQidPq",
        "outputId": "69fdaf3c-2818-49d7-f024-fafee6e57f83"
      },
      "execution_count": 26,
      "outputs": [
        {
          "output_type": "error",
          "ename": "IndentationError",
          "evalue": "unexpected indent (ipython-input-26-177095680.py, line 2)",
          "traceback": [
            "\u001b[0;36m  File \u001b[0;32m\"/tmp/ipython-input-26-177095680.py\"\u001b[0;36m, line \u001b[0;32m2\u001b[0m\n\u001b[0;31m    lst = [1, 2, 3]\u001b[0m\n\u001b[0m    ^\u001b[0m\n\u001b[0;31mIndentationError\u001b[0m\u001b[0;31m:\u001b[0m unexpected indent\n"
          ]
        }
      ]
    },
    {
      "cell_type": "code",
      "source": [
        "#20)\n",
        "with open(\"example.txt\", \"r\") as file:\n",
        "    content = file.read()\n",
        "    print(content)\n"
      ],
      "metadata": {
        "colab": {
          "base_uri": "https://localhost:8080/"
        },
        "id": "FQWtmgG7ihHt",
        "outputId": "fbe4a93e-9fc9-411e-8420-10ddaedaac21"
      },
      "execution_count": 27,
      "outputs": [
        {
          "output_type": "stream",
          "name": "stdout",
          "text": [
            "Hello, this is a test string.\n",
            "Appended line.\n"
          ]
        }
      ]
    },
    {
      "cell_type": "code",
      "source": [
        "#21)\n",
        "word = \"Python\"\n",
        "count = 0\n",
        "with open(\"example.txt\", \"r\") as file:\n",
        "    for line in file:\n",
        "        count += line.count(word)\n",
        "print(f\"'{word}' occurred {count} times.\")\n",
        "\n"
      ],
      "metadata": {
        "colab": {
          "base_uri": "https://localhost:8080/"
        },
        "id": "BliPG1GPivdk",
        "outputId": "64290041-6c5d-4ddb-8731-cdd4154fc407"
      },
      "execution_count": 28,
      "outputs": [
        {
          "output_type": "stream",
          "name": "stdout",
          "text": [
            "'Python' occurred 0 times.\n"
          ]
        }
      ]
    },
    {
      "cell_type": "code",
      "source": [
        "#22)\n",
        "import os\n",
        "\n",
        "if os.path.getsize(\"example.txt\") == 0:\n",
        "    print(\"File is empty\")\n",
        "else:\n",
        "    print(\"File has content\")\n",
        "\n"
      ],
      "metadata": {
        "colab": {
          "base_uri": "https://localhost:8080/"
        },
        "id": "gmfDkS9Qi0kz",
        "outputId": "634fca20-a560-48af-b564-513570483741"
      },
      "execution_count": 29,
      "outputs": [
        {
          "output_type": "stream",
          "name": "stdout",
          "text": [
            "File has content\n"
          ]
        }
      ]
    },
    {
      "cell_type": "code",
      "source": [
        "#23)\n",
        "import logging\n",
        "\n",
        "logging.basicConfig(filename='file_error.log', level=logging.ERROR)\n",
        "\n",
        "try:\n",
        "    with open(\"nonexistent.txt\", \"r\") as f:\n",
        "        data = f.read()\n",
        "except FileNotFoundError as e:\n",
        "    logging.error(\"File error: %s\", e)\n"
      ],
      "metadata": {
        "colab": {
          "base_uri": "https://localhost:8080/"
        },
        "id": "lUWFYvlQi7yA",
        "outputId": "de83e5b2-294c-46af-cd26-0faacb5d4955"
      },
      "execution_count": 30,
      "outputs": [
        {
          "output_type": "stream",
          "name": "stderr",
          "text": [
            "ERROR:root:File error: [Errno 2] No such file or directory: 'nonexistent.txt'\n"
          ]
        }
      ]
    }
  ]
}